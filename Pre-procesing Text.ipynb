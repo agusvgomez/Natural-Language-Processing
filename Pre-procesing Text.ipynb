{
 "cells": [
  {
   "cell_type": "code",
   "execution_count": 4,
   "metadata": {},
   "outputs": [],
   "source": [
    "import re, string, unicodedata\n",
    "import nltk\n",
    "import contractions\n",
    "import inflect\n",
    "from bs4 import BeautifulSoup\n",
    "from nltk import word_tokenize, sent_tokenize\n",
    "from nltk.corpus import stopwords\n",
    "from nltk.stem import LancasterStemmer, WordNetLemmatizer"
   ]
  },
  {
   "cell_type": "markdown",
   "metadata": {},
   "source": [
    "# Noise Removal"
   ]
  },
  {
   "cell_type": "code",
   "execution_count": 5,
   "metadata": {},
   "outputs": [],
   "source": [
    "def strip_html(text):\n",
    "    soup = BeautifulSoup(text, \"html.parser\")\n",
    "    return soup.get_text()\n",
    "\n",
    "def remove_between_square_brackets(text):\n",
    "    return re.sub('\\[[^]]*\\]', '', text)\n",
    "\n",
    "def denoise_text(text):\n",
    "    text = strip_html(text)\n",
    "    text = remove_between_square_brackets(text)\n",
    "    return text\n",
    "\n",
    "def replace_contractions(text):\n",
    "    \"\"\"Replace contractions in string of text\"\"\"\n",
    "    return contractions.fix(text)"
   ]
  },
  {
   "cell_type": "markdown",
   "metadata": {},
   "source": [
    "# Tokenization"
   ]
  },
  {
   "cell_type": "code",
   "execution_count": 25,
   "metadata": {},
   "outputs": [],
   "source": [
    "def tokenize(text):\n",
    "    return nltk.word_tokenize(text)"
   ]
  },
  {
   "cell_type": "markdown",
   "metadata": {},
   "source": [
    "# Normalization"
   ]
  },
  {
   "cell_type": "code",
   "execution_count": 28,
   "metadata": {},
   "outputs": [],
   "source": [
    "def remove_non_ascii(words):\n",
    "    \"\"\"Remove non-ASCII characters from list of tokenized words\"\"\"\n",
    "    return [unicodedata.normalize('NFKD', word).encode('ascii', 'ignore').decode('utf-8', 'ignore') for word in words]\n",
    "\n",
    "def to_lowercase(words):\n",
    "    \"\"\"Convert all characters to lowercase from list of tokenized words\"\"\"\n",
    "    return [word.lower() for word in words]\n",
    "\n",
    "def remove_punctuation(words):\n",
    "    \"\"\"Remove punctuation from list of tokenized words\"\"\"\n",
    "    new_words = []\n",
    "    for word in words:\n",
    "        new_word = re.sub(r'[^\\w\\s]', '', word)\n",
    "        if new_word != '':\n",
    "            new_words.append(new_word)\n",
    "    return new_words\n",
    "\n",
    "def replace_numbers(words):\n",
    "    \"\"\"Replace all interger occurrences in list of tokenized words with textual representation\"\"\"\n",
    "    p = inflect.engine()\n",
    "    return [p.number_to_words(word) if word.isdigit() else word for word in words]\n",
    "\n",
    "def remove_stopwords(words):\n",
    "    \"\"\"Remove stop words from list of tokenized words\"\"\"\n",
    "    return [word for word in words if word not in stopwords.words('english')]\n",
    "\n",
    "def stem_words(words):\n",
    "    \"\"\"Stem words in list of tokenized words\"\"\"\n",
    "    stemmer = LancasterStemmer()\n",
    "    return [stemmer.stem(word) for word in words]\n",
    "\n",
    "def lemmatize_verbs(words):\n",
    "    \"\"\"Lemmatize verbs in list of tokenized words\"\"\"\n",
    "    lemmatizer = WordNetLemmatizer()\n",
    "    return [lemmatizer.lemmatize(word, pos='v') for word in words]"
   ]
  },
  {
   "cell_type": "code",
   "execution_count": 29,
   "metadata": {},
   "outputs": [],
   "source": [
    "def normalize(words):\n",
    "    words = remove_non_ascii(words)\n",
    "    words = to_lowercase(words)\n",
    "    words = remove_punctuation(words)\n",
    "    words = replace_numbers(words)\n",
    "    words = remove_stopwords(words)\n",
    "    return words\n",
    "\n",
    "def stem_and_lemmatize(words):\n",
    "    stems = stem_words(words)\n",
    "    lemmas = lemmatize_verbs(words)\n",
    "    return stems, lemmas"
   ]
  },
  {
   "cell_type": "code",
   "execution_count": 23,
   "metadata": {},
   "outputs": [],
   "source": [
    "sample = \"\"\"<h1>Title Goes Here</h1>\n",
    "<b>Bolded Text</b>\n",
    "<i>Italicized Text</i>\n",
    "<img src=\"this should all be gone\"/>\n",
    "<a href=\"this will be gone, too\">But this will still be here!</a>\n",
    "I run. He ran. She is running. Will they stop running?\n",
    "I talked. She was talking. They talked to them about running. Who ran to the talking runner?\n",
    "[Some text we don't want to keep is in here]\n",
    "¡Sebastián, Nicolás, Alejandro and Jéronimo are going to the store tomorrow morning!\n",
    "something... is! wrong() with.,; this :: sentence.\n",
    "I can't do this anymore. I didn't know them. Why couldn't you have dinner at the restaurant?\n",
    "My favorite movie franchises, in order: Indiana Jones; Marvel Cinematic Universe; Star Wars; Back to the Future; Harry Potter.\n",
    "Don't do it.... Just don't. Billy! I know what you're doing. This is a great little house you've got here.\n",
    "[This is some other unwanted text]\n",
    "John: \"Well, well, well.\"\n",
    "James: \"There, there. There, there.\"\n",
    "&nbsp;&nbsp;\n",
    "There are a lot of reasons not to do this. There are 101 reasons not to do it. 1000000 reasons, actually.\n",
    "I have to go get 2 tutus from 2 different stores, too.\n",
    "22    45   1067   445\n",
    "{{Here is some stuff inside of double curly braces.}}\n",
    "{Here is more stuff in single curly braces.}\n",
    "[DELETE]\n",
    "</body>\n",
    "</html>\"\"\""
   ]
  },
  {
   "cell_type": "code",
   "execution_count": 27,
   "metadata": {},
   "outputs": [
    {
     "data": {
      "text/plain": [
       "['title',\n",
       " 'goes',\n",
       " 'bolded',\n",
       " 'text',\n",
       " 'italicized',\n",
       " 'text',\n",
       " 'still',\n",
       " 'run',\n",
       " 'ran',\n",
       " 'running',\n",
       " 'stop',\n",
       " 'running',\n",
       " 'talked',\n",
       " 'talking',\n",
       " 'talked',\n",
       " 'running',\n",
       " 'ran',\n",
       " 'talking',\n",
       " 'runner',\n",
       " 'sebastian',\n",
       " 'nicolas',\n",
       " 'alejandro',\n",
       " 'jeronimo',\n",
       " 'going',\n",
       " 'store',\n",
       " 'tomorrow',\n",
       " 'morning',\n",
       " 'something',\n",
       " 'wrong',\n",
       " 'sentence',\n",
       " 'anymore',\n",
       " 'know',\n",
       " 'could',\n",
       " 'dinner',\n",
       " 'restaurant',\n",
       " 'favorite',\n",
       " 'movie',\n",
       " 'franchises',\n",
       " 'order',\n",
       " 'indiana',\n",
       " 'jones',\n",
       " 'marvel',\n",
       " 'cinematic',\n",
       " 'universe',\n",
       " 'star',\n",
       " 'wars',\n",
       " 'back',\n",
       " 'future',\n",
       " 'harry',\n",
       " 'potter',\n",
       " 'billy',\n",
       " 'know',\n",
       " 'great',\n",
       " 'little',\n",
       " 'house',\n",
       " 'got',\n",
       " 'john',\n",
       " 'well',\n",
       " 'well',\n",
       " 'well',\n",
       " 'james',\n",
       " 'lot',\n",
       " 'reasons',\n",
       " 'one hundred and one',\n",
       " 'reasons',\n",
       " 'one million',\n",
       " 'reasons',\n",
       " 'actually',\n",
       " 'go',\n",
       " 'get',\n",
       " 'two',\n",
       " 'tutus',\n",
       " 'two',\n",
       " 'different',\n",
       " 'stores',\n",
       " 'twenty-two',\n",
       " 'forty-five',\n",
       " 'one thousand and sixty-seven',\n",
       " 'four hundred and forty-five',\n",
       " 'stuff',\n",
       " 'inside',\n",
       " 'double',\n",
       " 'curly',\n",
       " 'braces',\n",
       " 'stuff',\n",
       " 'single',\n",
       " 'curly',\n",
       " 'braces']"
      ]
     },
     "execution_count": 27,
     "metadata": {},
     "output_type": "execute_result"
    }
   ],
   "source": [
    "sample = replace_contractions(denoise_text(sample))\n",
    "words = tokenize(sample)\n",
    "normalize(words)"
   ]
  },
  {
   "cell_type": "code",
   "execution_count": 32,
   "metadata": {},
   "outputs": [
    {
     "name": "stdout",
     "output_type": "stream",
     "text": [
      "Stemmed:\n",
      " ['titl', 'goe', 'her', 'bold', 'text', 'it', 'text', 'but', 'thi', 'wil', 'stil', 'be', 'her', '!', 'i', 'run', '.', 'he', 'ran', '.', 'she', 'is', 'run', '.', 'wil', 'they', 'stop', 'run', '?', 'i', 'talk', '.', 'she', 'was', 'talk', '.', 'they', 'talk', 'to', 'them', 'about', 'run', '.', 'who', 'ran', 'to', 'the', 'talk', 'run', '?', '¡sebastián', ',', 'nicolá', ',', 'alejandro', 'and', 'jéronimo', 'ar', 'going', 'to', 'the', 'stor', 'tomorrow', 'morn', '!', 'someth', '...', 'is', '!', 'wrong', '(', ')', 'with.', ',', ';', 'thi', ':', ':', 'sent', '.', 'i', 'can', 'not', 'do', 'thi', 'anym', '.', 'i', 'did', 'not', 'know', 'them', '.', 'why', 'could', 'not', 'you', 'hav', 'din', 'at', 'the', 'resta', '?', 'my', 'favorit', 'movy', 'franch', ',', 'in', 'ord', ':', 'indian', 'jon', ';', 'marvel', 'cinem', 'univers', ';', 'star', 'war', ';', 'back', 'to', 'the', 'fut', ';', 'harry', 'pot', '.', 'do', 'not', 'do', 'it', '...', '.', 'just', 'do', 'not', '.', 'bil', '!', 'i', 'know', 'what', 'you', 'ar', 'doing', '.', 'thi', 'is', 'a', 'gre', 'littl', 'hous', 'you', 'hav', 'got', 'her', '.', 'john', ':', '``', 'wel', ',', 'wel', ',', 'wel', '.', \"''\", 'jam', ':', '``', 'ther', ',', 'ther', '.', 'ther', ',', 'ther', '.', \"''\", 'ther', 'ar', 'a', 'lot', 'of', 'reason', 'not', 'to', 'do', 'thi', '.', 'ther', 'ar', '101', 'reason', 'not', 'to', 'do', 'it', '.', '1000000', 'reason', ',', 'act', '.', 'i', 'hav', 'to', 'go', 'get', '2', 'tut', 'from', '2', 'diff', 'stor', ',', 'too', '.', '22', '45', '1067', '445', '{', '{', 'her', 'is', 'som', 'stuff', 'insid', 'of', 'doubl', 'cur', 'brac', '.', '}', '}', '{', 'her', 'is', 'mor', 'stuff', 'in', 'singl', 'cur', 'brac', '.', '}']\n",
      "\n",
      "Lemmatized:\n",
      " ['Title', 'Goes', 'Here', 'Bolded', 'Text', 'Italicized', 'Text', 'But', 'this', 'will', 'still', 'be', 'here', '!', 'I', 'run', '.', 'He', 'run', '.', 'She', 'be', 'run', '.', 'Will', 'they', 'stop', 'run', '?', 'I', 'talk', '.', 'She', 'be', 'talk', '.', 'They', 'talk', 'to', 'them', 'about', 'run', '.', 'Who', 'run', 'to', 'the', 'talk', 'runner', '?', '¡Sebastián', ',', 'Nicolás', ',', 'Alejandro', 'and', 'Jéronimo', 'be', 'go', 'to', 'the', 'store', 'tomorrow', 'morning', '!', 'something', '...', 'be', '!', 'wrong', '(', ')', 'with.', ',', ';', 'this', ':', ':', 'sentence', '.', 'I', 'can', 'not', 'do', 'this', 'anymore', '.', 'I', 'do', 'not', 'know', 'them', '.', 'Why', 'could', 'not', 'you', 'have', 'dinner', 'at', 'the', 'restaurant', '?', 'My', 'favorite', 'movie', 'franchise', ',', 'in', 'order', ':', 'Indiana', 'Jones', ';', 'Marvel', 'Cinematic', 'Universe', ';', 'Star', 'Wars', ';', 'Back', 'to', 'the', 'Future', ';', 'Harry', 'Potter', '.', 'do', 'not', 'do', 'it', '...', '.', 'Just', 'do', 'not', '.', 'Billy', '!', 'I', 'know', 'what', 'you', 'be', 'do', '.', 'This', 'be', 'a', 'great', 'little', 'house', 'you', 'have', 'get', 'here', '.', 'John', ':', '``', 'Well', ',', 'well', ',', 'well', '.', \"''\", 'James', ':', '``', 'There', ',', 'there', '.', 'There', ',', 'there', '.', \"''\", 'There', 'be', 'a', 'lot', 'of', 'reason', 'not', 'to', 'do', 'this', '.', 'There', 'be', '101', 'reason', 'not', 'to', 'do', 'it', '.', '1000000', 'reason', ',', 'actually', '.', 'I', 'have', 'to', 'go', 'get', '2', 'tutus', 'from', '2', 'different', 'store', ',', 'too', '.', '22', '45', '1067', '445', '{', '{', 'Here', 'be', 'some', 'stuff', 'inside', 'of', 'double', 'curly', 'brace', '.', '}', '}', '{', 'Here', 'be', 'more', 'stuff', 'in', 'single', 'curly', 'brace', '.', '}']\n"
     ]
    }
   ],
   "source": [
    "stems, lemmas = stem_and_lemmatize(words)\n",
    "print('Stemmed:\\n', stems)\n",
    "print('\\nLemmatized:\\n', lemmas)"
   ]
  },
  {
   "cell_type": "code",
   "execution_count": null,
   "metadata": {},
   "outputs": [],
   "source": []
  }
 ],
 "metadata": {
  "kernelspec": {
   "display_name": "Python 3",
   "language": "python",
   "name": "python3"
  },
  "language_info": {
   "codemirror_mode": {
    "name": "ipython",
    "version": 3
   },
   "file_extension": ".py",
   "mimetype": "text/x-python",
   "name": "python",
   "nbconvert_exporter": "python",
   "pygments_lexer": "ipython3",
   "version": "3.7.3"
  }
 },
 "nbformat": 4,
 "nbformat_minor": 2
}
